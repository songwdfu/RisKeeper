{
 "cells": [
  {
   "cell_type": "code",
   "execution_count": 1,
   "metadata": {},
   "outputs": [],
   "source": [
    "import os\n",
    "os.environ['CUDA_LAUNCH_BLOCKING'] = '1'\n",
    "import torch\n",
    "from deeprobust.graph.defense import GCN, GCNJaccard\n",
    "import numpy as np\n",
    "from torch_geometric.data import Data, DataLoader\n",
    "import pandas as pd\n",
    "import pickle as pkl"
   ]
  },
  {
   "cell_type": "code",
   "execution_count": 2,
   "metadata": {},
   "outputs": [],
   "source": [
    "np.random.seed(123)"
   ]
  },
  {
   "cell_type": "code",
   "execution_count": 3,
   "metadata": {},
   "outputs": [],
   "source": [
    "device = torch.device('cuda:0')"
   ]
  },
  {
   "attachments": {},
   "cell_type": "markdown",
   "metadata": {},
   "source": [
    "## Alpha Network"
   ]
  },
  {
   "cell_type": "code",
   "execution_count": 4,
   "metadata": {},
   "outputs": [],
   "source": [
    "def load_npz_raw(file_name):\n",
    "    \"\"\"\n",
    "    for already processed bitcoin alpha network. See read_node_attr.ipynb \n",
    "    \"\"\"\n",
    "    if not file_name.endswith('.npz'):\n",
    "        file_name += '.npz'\n",
    "    with np.load(file_name, allow_pickle=True) as loader:\n",
    "        loader = dict(loader)\n",
    "        adj_matrix = loader['_A_obs']\n",
    "        attr_matrix = loader['_X_obs']\n",
    "        labels = loader.get('_z_obs')\n",
    "    return adj_matrix, attr_matrix, labels"
   ]
  },
  {
   "cell_type": "code",
   "execution_count": 5,
   "metadata": {},
   "outputs": [],
   "source": [
    "adj, attr, labels = load_npz_raw(\"../GCN_ADV_Train/bitcoin_alpha_eigens.npz\")"
   ]
  },
  {
   "cell_type": "code",
   "execution_count": 6,
   "metadata": {},
   "outputs": [
    {
     "data": {
      "text/plain": [
       "array([[ 0. ,  0.1,  0. , ...,  0. ,  0.1,  0. ],\n",
       "       [ 0.4,  0. ,  0.1, ...,  0. , -1. ,  0. ],\n",
       "       [ 0. ,  0. ,  0. , ...,  0. ,  0. , -1. ],\n",
       "       ...,\n",
       "       [ 0. ,  0. ,  0. , ...,  0. ,  0. ,  1. ],\n",
       "       [ 0.2,  0.9,  0. , ...,  0. ,  0. ,  0. ],\n",
       "       [ 0. ,  0. ,  0. , ...,  1. , -1. ,  0. ]])"
      ]
     },
     "execution_count": 6,
     "metadata": {},
     "output_type": "execute_result"
    }
   ],
   "source": [
    "adj"
   ]
  },
  {
   "cell_type": "code",
   "execution_count": 7,
   "metadata": {},
   "outputs": [
    {
     "data": {
      "text/plain": [
       "array([[ 0.08186567+0.j        , -0.03081963+0.j        ,\n",
       "        -0.09929379+0.j        , ..., -0.01476412+0.j        ,\n",
       "        -0.01991514+0.j        ,  0.02788606-0.00939905j],\n",
       "       [ 0.20409755+0.j        , -0.19004447+0.j        ,\n",
       "        -0.00419816+0.j        , ...,  0.00404818+0.j        ,\n",
       "         0.01845753+0.j        ,  0.03371585+0.01276114j],\n",
       "       [ 0.15657238+0.j        ,  0.24720236+0.j        ,\n",
       "        -0.19258863+0.j        , ...,  0.02289012+0.j        ,\n",
       "         0.00938968+0.j        , -0.01470755-0.02335312j],\n",
       "       ...,\n",
       "       [-0.08296632+0.j        , -0.08043238+0.j        ,\n",
       "        -0.22398007+0.j        , ...,  0.00594582+0.j        ,\n",
       "         0.0156617 +0.j        , -0.0109656 +0.02007655j],\n",
       "       [ 0.18767421+0.j        , -0.21002437+0.j        ,\n",
       "        -0.0875027 +0.j        , ..., -0.00407662+0.j        ,\n",
       "         0.01856113+0.j        ,  0.02889957+0.04112684j],\n",
       "       [-0.07051254+0.j        , -0.0336177 +0.j        ,\n",
       "        -0.18959818+0.j        , ...,  0.00988827+0.j        ,\n",
       "        -0.02468324+0.j        ,  0.01014453-0.012344j  ]])"
      ]
     },
     "execution_count": 7,
     "metadata": {},
     "output_type": "execute_result"
    }
   ],
   "source": [
    "attr"
   ]
  },
  {
   "cell_type": "code",
   "execution_count": 8,
   "metadata": {},
   "outputs": [],
   "source": [
    "train_mask = ~np.isnan(labels)\n",
    "train_indices = np.nonzero(train_mask)[0]\n",
    "np.random.shuffle(train_indices)\n",
    "val_indices = train_indices[:len(train_indices)//2]                         # random selection\n",
    "train_indices = train_indices[len(train_indices)//2:]\n",
    "train_mask = np.zeros_like(train_mask)\n",
    "val_mask = np.zeros_like(train_mask)\n",
    "train_mask[train_indices] = 1                                               # get train and val masks\n",
    "val_mask[val_indices] = 1                                               \n",
    "\n",
    "new_y_train = labels[train_mask]                                                # get train and val labels (-1 and 1)\n",
    "y_train = np.zeros([train_mask.shape[0], 2])\n",
    "y_train[train_mask, 0] = (new_y_train == -1).astype(int)\n",
    "y_train[train_mask, 1] = (new_y_train == 1).astype(int)\n",
    "\n",
    "new_y_val = labels[val_mask]\n",
    "y_val = np.zeros([train_mask.shape[0], 2])\n",
    "y_val[val_mask, 0] = (new_y_val == -1).astype(int)\n",
    "y_val[val_mask, 1] = (new_y_val == 1).astype(int)\n",
    "\n",
    "test_mask = np.isnan(labels)\n",
    "y_test = np.zeros([test_mask.shape[0], 2]).astype(int)\n",
    "\n",
    "test_mask, val_mask = val_mask, test_mask                                   ###############\n",
    "y_test, y_val = y_val, y_test  \n",
    "\n",
    "new_y_train[new_y_train==-1] = 0\n",
    "new_y_val[new_y_val==-1] = 0\n",
    "y_test = new_y_val\n",
    "y_train = new_y_train\n",
    "test_indices = val_indices\n"
   ]
  },
  {
   "cell_type": "code",
   "execution_count": 9,
   "metadata": {},
   "outputs": [],
   "source": [
    "adj_matrix = adj.copy()\n",
    "adj[adj!=0] = 1"
   ]
  },
  {
   "cell_type": "code",
   "execution_count": 10,
   "metadata": {},
   "outputs": [],
   "source": [
    "# indices = np.nonzero(adj)\n",
    "# edge_index = torch.tensor(indices, dtype=torch.long)\n",
    "# dataset = Data(x=attr, edge_index=edge_index, edge_attr=None)\n",
    "# dataset\n",
    "# attr = torch.from_numpy(attr).real\n",
    "# adj = torch.from_numpy(adj)\n",
    "# labels = torch.from_numpy(labels)\n",
    "# train_indices = torch.from_numpy(train_indices)"
   ]
  },
  {
   "cell_type": "code",
   "execution_count": 11,
   "metadata": {},
   "outputs": [],
   "source": [
    "attr = attr.real"
   ]
  },
  {
   "cell_type": "code",
   "execution_count": 12,
   "metadata": {},
   "outputs": [],
   "source": [
    "labels[labels==-1] = 0"
   ]
  },
  {
   "cell_type": "code",
   "execution_count": 13,
   "metadata": {},
   "outputs": [],
   "source": [
    "# attr, adj, train_indices, labels = attr.to(device), adj.to(device), train_indices.to(device), labels.to(device)"
   ]
  },
  {
   "cell_type": "code",
   "execution_count": 14,
   "metadata": {},
   "outputs": [],
   "source": [
    "gcn_jaccard = GCNJaccard(attr.shape[1], 32, 2, device=device)"
   ]
  },
  {
   "cell_type": "code",
   "execution_count": 15,
   "metadata": {},
   "outputs": [],
   "source": [
    "gcn_jaccard = gcn_jaccard.to(device)"
   ]
  },
  {
   "cell_type": "code",
   "execution_count": 16,
   "metadata": {},
   "outputs": [
    {
     "name": "stdout",
     "output_type": "stream",
     "text": [
      "removed 0 edges in the original graph\n",
      "Epoch 0, training loss: 0.6822478175163269\n",
      "Epoch 10, training loss: 0.5975603461265564\n",
      "Epoch 20, training loss: 0.5792514085769653\n",
      "Epoch 30, training loss: 0.5576171278953552\n",
      "Epoch 40, training loss: 0.5483308434486389\n",
      "Epoch 50, training loss: 0.5350002646446228\n",
      "Epoch 60, training loss: 0.5231663584709167\n",
      "Epoch 70, training loss: 0.5127209424972534\n",
      "Epoch 80, training loss: 0.4914461076259613\n",
      "Epoch 90, training loss: 0.4902454614639282\n",
      "Epoch 100, training loss: 0.4767161011695862\n",
      "Epoch 110, training loss: 0.45659762620925903\n",
      "Epoch 120, training loss: 0.463367223739624\n",
      "Epoch 130, training loss: 0.4573913812637329\n",
      "Epoch 140, training loss: 0.42881426215171814\n",
      "Epoch 150, training loss: 0.4207516014575958\n",
      "Epoch 160, training loss: 0.4072168171405792\n",
      "Epoch 170, training loss: 0.40532606840133667\n",
      "Epoch 180, training loss: 0.4077036380767822\n",
      "Epoch 190, training loss: 0.38517752289772034\n"
     ]
    }
   ],
   "source": [
    "gcn_jaccard.fit(features=attr, adj=adj, labels=labels, idx_train=train_indices)"
   ]
  },
  {
   "cell_type": "code",
   "execution_count": 17,
   "metadata": {},
   "outputs": [
    {
     "data": {
      "text/plain": [
       "GCNJaccard(\n",
       "  (gc1): GraphConvolution (100 -> 32)\n",
       "  (gc2): GraphConvolution (32 -> 2)\n",
       ")"
      ]
     },
     "execution_count": 17,
     "metadata": {},
     "output_type": "execute_result"
    }
   ],
   "source": [
    "gcn_jaccard.eval()"
   ]
  },
  {
   "cell_type": "code",
   "execution_count": 18,
   "metadata": {},
   "outputs": [
    {
     "name": "stdout",
     "output_type": "stream",
     "text": [
      "Test set results: loss= 0.6833 accuracy= 0.7542\n"
     ]
    }
   ],
   "source": [
    "output = gcn_jaccard.test(test_indices)"
   ]
  },
  {
   "cell_type": "code",
   "execution_count": 19,
   "metadata": {},
   "outputs": [
    {
     "name": "stdout",
     "output_type": "stream",
     "text": [
      "removed 0 edges in the original graph\n"
     ]
    }
   ],
   "source": [
    "new_pred = gcn_jaccard.predict(attr, adj)"
   ]
  },
  {
   "cell_type": "code",
   "execution_count": 20,
   "metadata": {},
   "outputs": [
    {
     "data": {
      "text/plain": [
       "tensor([[-1.6836e+01,  0.0000e+00],\n",
       "        [-5.3285e+00, -4.8632e-03],\n",
       "        [-1.8218e+01,  0.0000e+00],\n",
       "        ...,\n",
       "        [-4.0054e-01, -1.1085e+00],\n",
       "        [-3.1646e+00, -4.3150e-02],\n",
       "        [-1.7840e+00, -1.8387e-01]], device='cuda:0',\n",
       "       grad_fn=<LogSoftmaxBackward>)"
      ]
     },
     "execution_count": 20,
     "metadata": {},
     "output_type": "execute_result"
    }
   ],
   "source": [
    "new_pred"
   ]
  },
  {
   "cell_type": "code",
   "execution_count": 21,
   "metadata": {},
   "outputs": [],
   "source": [
    "new_pred = torch.argmax(new_pred, 1).cpu()"
   ]
  },
  {
   "cell_type": "code",
   "execution_count": 22,
   "metadata": {},
   "outputs": [],
   "source": [
    "pkl.dump(new_pred.numpy(), open('pred_gcn_jaccard_alpha.pkl', 'wb'))"
   ]
  },
  {
   "cell_type": "code",
   "execution_count": 23,
   "metadata": {},
   "outputs": [],
   "source": [
    "from DeepRobust.deeprobust.graph.global_attack.topology_attack import PGDAttack"
   ]
  },
  {
   "cell_type": "code",
   "execution_count": 25,
   "metadata": {},
   "outputs": [],
   "source": [
    "from deeprobust.graph.utils import *\n",
    "import torch.nn.functional as F"
   ]
  },
  {
   "cell_type": "code",
   "execution_count": 26,
   "metadata": {},
   "outputs": [],
   "source": [
    "def test(new_adj, gcn=None):\n",
    "    ''' test on GCN '''\n",
    "    new_adj = new_adj.cpu().numpy()\n",
    "    if gcn is None:\n",
    "        # adj = normalize_adj_tensor(adj)\n",
    "        gcn = GCNJaccard(attr.shape[1], 32, 2, device=device)\n",
    "        gcn = gcn.to(device)\n",
    "        # gcn.fit(features, new_adj, labels, idx_train) # train without model picking\n",
    "        gcn.fit(attr, new_adj, labels, train_indices) # train with validation model picking\n",
    "        gcn.eval()\n",
    "        output = gcn.predict().cpu()\n",
    "    else:\n",
    "        gcn.eval()\n",
    "        output = gcn.predict(attr, new_adj).cpu()\n",
    "\n",
    "    loss_test = F.nll_loss(output[test_indices].detach(), torch.tensor(labels[test_indices], dtype=torch.long))\n",
    "    acc_test = accuracy(output[test_indices].detach(), torch.tensor(labels[test_indices], dtype=torch.long))\n",
    "    print(\"Test set results:\",\n",
    "        \"loss= {:.4f}\".format(loss_test.item()),\n",
    "        \"accuracy= {:.4f}\".format(acc_test.item()))"
   ]
  },
  {
   "cell_type": "code",
   "execution_count": 27,
   "metadata": {},
   "outputs": [
    {
     "name": "stderr",
     "output_type": "stream",
     "text": [
      "  0%|          | 0/50 [00:00<?, ?it/s]"
     ]
    },
    {
     "name": "stdout",
     "output_type": "stream",
     "text": [
      "=== setup attack model ===\n",
      "removed 0 edges in the original graph\n"
     ]
    },
    {
     "name": "stderr",
     "output_type": "stream",
     "text": [
      "100%|██████████| 50/50 [00:05<00:00,  8.34it/s]\n"
     ]
    }
   ],
   "source": [
    "# Setup Attack Model\n",
    "print('=== setup attack model ===')\n",
    "model = PGDAttack(model=gcn_jaccard, nnodes=adj.shape[0], loss_type='CE', device=device)\n",
    "model = model.to(device)\n",
    "\n",
    "epochs = 50\n",
    "ptb_rate = 0.05\n",
    "\n",
    "perturbations = int(ptb_rate * (adj.sum()//2))\n",
    "features = torch.from_numpy(attr)\n",
    "adj_tensor = torch.from_numpy(adj)\n",
    "\n",
    "# model.attack(features, adj, labels, idx_train, perturbations, epochs=args.epochs)\n",
    "# Here for the labels we need to replace it with predicted ones\n",
    "pseudo_labels = gcn_jaccard.predict(attr, adj)\n",
    "pseudo_labels = torch.argmax(pseudo_labels, 1).cpu()\n",
    "# Besides, we need to add the idx into the whole process\n",
    "pseudo_indices = np.concatenate([train_indices, test_indices])\n",
    "\n",
    "idx_others = list(set(np.arange(len(labels))) - set(train_indices))\n",
    "pseudo_labels = torch.cat([torch.from_numpy(labels[train_indices]), pseudo_labels[idx_others]])\n",
    "model.attack(attr, adj, pseudo_labels.numpy(), pseudo_indices, perturbations, epochs=epochs)\n",
    "\n",
    "# # if you want to save the modified adj/features, uncomment the code below\n",
    "# model.save_adj(root='./', name=f'mod_adj')\n",
    "# model.save_features(root='./', name='mod_features')\n"
   ]
  },
  {
   "cell_type": "code",
   "execution_count": 28,
   "metadata": {},
   "outputs": [
    {
     "name": "stdout",
     "output_type": "stream",
     "text": [
      "=== testing GCN on clean graph ===\n",
      "removed 0 edges in the original graph\n",
      "Test set results: loss= 0.6833 accuracy= 0.7542\n"
     ]
    }
   ],
   "source": [
    "print('=== testing GCN on clean graph ===')\n",
    "test(torch.tensor(adj), gcn_jaccard)"
   ]
  },
  {
   "cell_type": "code",
   "execution_count": 29,
   "metadata": {},
   "outputs": [
    {
     "name": "stdout",
     "output_type": "stream",
     "text": [
      "=== testing GCN on Evasion attack ===\n",
      "removed 0 edges in the original graph\n",
      "Test set results: loss= 1.1614 accuracy= 0.5085\n"
     ]
    }
   ],
   "source": [
    "print('=== testing GCN on Evasion attack ===')\n",
    "\n",
    "modified_adj = model.modified_adj\n",
    "test(modified_adj, gcn_jaccard)\n"
   ]
  },
  {
   "cell_type": "code",
   "execution_count": 30,
   "metadata": {},
   "outputs": [
    {
     "name": "stdout",
     "output_type": "stream",
     "text": [
      "=== testing GCN on Poisoning attack ===\n",
      "removed 0 edges in the original graph\n",
      "Epoch 0, training loss: 0.6629500389099121\n",
      "Epoch 10, training loss: 0.6200554370880127\n",
      "Epoch 20, training loss: 0.6070672869682312\n",
      "Epoch 30, training loss: 0.5993247628211975\n",
      "Epoch 40, training loss: 0.5910260081291199\n",
      "Epoch 50, training loss: 0.5827901363372803\n",
      "Epoch 60, training loss: 0.5793148875236511\n",
      "Epoch 70, training loss: 0.574871838092804\n",
      "Epoch 80, training loss: 0.5614697933197021\n",
      "Epoch 90, training loss: 0.5580852031707764\n",
      "Epoch 100, training loss: 0.5366182327270508\n",
      "Epoch 110, training loss: 0.536301851272583\n",
      "Epoch 120, training loss: 0.545376181602478\n",
      "Epoch 130, training loss: 0.5398913025856018\n",
      "Epoch 140, training loss: 0.5209358334541321\n",
      "Epoch 150, training loss: 0.528473436832428\n",
      "Epoch 160, training loss: 0.5196252465248108\n",
      "Epoch 170, training loss: 0.5290324687957764\n",
      "Epoch 180, training loss: 0.5184369087219238\n",
      "Epoch 190, training loss: 0.5002232789993286\n",
      "Test set results: loss= 0.6546 accuracy= 0.6610\n"
     ]
    }
   ],
   "source": [
    "\n",
    "# modified_features = model.modified_features\n",
    "print('=== testing GCN on Poisoning attack ===')\n",
    "test(modified_adj)"
   ]
  },
  {
   "cell_type": "code",
   "execution_count": null,
   "metadata": {},
   "outputs": [],
   "source": []
  }
 ],
 "metadata": {
  "kernelspec": {
   "display_name": "DeepRobust",
   "language": "python",
   "name": "python3"
  },
  "language_info": {
   "codemirror_mode": {
    "name": "ipython",
    "version": 3
   },
   "file_extension": ".py",
   "mimetype": "text/x-python",
   "name": "python",
   "nbconvert_exporter": "python",
   "pygments_lexer": "ipython3",
   "version": "3.7.12"
  },
  "orig_nbformat": 4
 },
 "nbformat": 4,
 "nbformat_minor": 2
}
